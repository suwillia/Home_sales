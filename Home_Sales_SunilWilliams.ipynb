{
  "cells": [
    {
      "cell_type": "code",
      "execution_count": 2,
      "metadata": {
        "colab": {
          "base_uri": "https://localhost:8080/"
        },
        "id": "a_KW73O2e3dw",
        "outputId": "69063659-8a49-49e4-c894-faa02037820d"
      },
      "outputs": [
        {
          "output_type": "stream",
          "name": "stdout",
          "text": [
            "\r0% [Working]\r            \rGet:1 https://cloud.r-project.org/bin/linux/ubuntu jammy-cran40/ InRelease [3,632 B]\n",
            "\r0% [Connecting to archive.ubuntu.com (91.189.91.83)] [Connecting to security.ubuntu.com (91.189.91.8\r0% [Connecting to archive.ubuntu.com (91.189.91.83)] [Connected to security.ubuntu.com (91.189.91.81\r                                                                                                    \rGet:2 https://developer.download.nvidia.com/compute/cuda/repos/ubuntu2204/x86_64  InRelease [1,581 B]\n",
            "\r0% [Waiting for headers] [Waiting for headers] [Waiting for headers] [Connecting to ppa.launchpadcon\r                                                                                                    \rGet:3 http://security.ubuntu.com/ubuntu jammy-security InRelease [129 kB]\n",
            "\r0% [Waiting for headers] [3 InRelease 14.2 kB/129 kB 11%] [Waiting for headers] [Connecting to ppa.l\r                                                                                                    \rHit:4 http://archive.ubuntu.com/ubuntu jammy InRelease\n",
            "Get:5 http://archive.ubuntu.com/ubuntu jammy-updates InRelease [128 kB]\n",
            "Get:6 https://r2u.stat.illinois.edu/ubuntu jammy InRelease [6,555 B]\n",
            "Get:7 http://archive.ubuntu.com/ubuntu jammy-backports InRelease [127 kB]\n",
            "Get:8 https://developer.download.nvidia.com/compute/cuda/repos/ubuntu2204/x86_64  Packages [1,381 kB]\n",
            "Hit:9 https://ppa.launchpadcontent.net/deadsnakes/ppa/ubuntu jammy InRelease\n",
            "Hit:10 https://ppa.launchpadcontent.net/graphics-drivers/ppa/ubuntu jammy InRelease\n",
            "Hit:11 https://ppa.launchpadcontent.net/ubuntugis/ppa/ubuntu jammy InRelease\n",
            "Get:12 https://r2u.stat.illinois.edu/ubuntu jammy/main amd64 Packages [2,685 kB]\n",
            "Get:13 http://security.ubuntu.com/ubuntu jammy-security/main amd64 Packages [2,737 kB]\n",
            "Get:14 https://r2u.stat.illinois.edu/ubuntu jammy/main all Packages [8,788 kB]\n",
            "Get:15 http://security.ubuntu.com/ubuntu jammy-security/universe amd64 Packages [1,239 kB]\n",
            "Get:16 http://security.ubuntu.com/ubuntu jammy-security/restricted amd64 Packages [3,892 kB]\n",
            "Get:17 http://security.ubuntu.com/ubuntu jammy-security/multiverse amd64 Packages [47.7 kB]\n",
            "Get:18 http://archive.ubuntu.com/ubuntu jammy-updates/restricted amd64 Packages [4,049 kB]\n",
            "Get:19 http://archive.ubuntu.com/ubuntu jammy-updates/multiverse amd64 Packages [55.7 kB]\n",
            "Get:20 http://archive.ubuntu.com/ubuntu jammy-updates/universe amd64 Packages [1,538 kB]\n",
            "Get:21 http://archive.ubuntu.com/ubuntu jammy-updates/main amd64 Packages [3,045 kB]\n",
            "Get:22 http://archive.ubuntu.com/ubuntu jammy-backports/universe amd64 Packages [35.2 kB]\n",
            "Fetched 29.9 MB in 4s (8,508 kB/s)\n",
            "Reading package lists... Done\n",
            "W: Skipping acquire of configured file 'main/source/Sources' as repository 'https://r2u.stat.illinois.edu/ubuntu jammy InRelease' does not seem to provide it (sources.list entry misspelt?)\n"
          ]
        }
      ],
      "source": [
        "# Import findspark and initialize.\n",
        "import os\n",
        "spark_version = 'spark-3.5.5'\n",
        "os.environ['SPARK_VERSION']=spark_version\n",
        "!apt-get update\n",
        "!apt-get install openjdk-11-jdk-headless -qq > /dev/null\n",
        "!wget -q https://downloads.apache.org/spark/$SPARK_VERSION/$SPARK_VERSION-bin-hadoop3.tgz\n",
        "!tar xf $SPARK_VERSION-bin-hadoop3.tgz\n",
        "!pip install -q findspark\n",
        "os.environ[\"JAVA_HOME\"] = \"/usr/lib/jvm/java-11-openjdk-amd64\"\n",
        "os.environ[\"SPARK_HOME\"] = f\"/content/{spark_version}-bin-hadoop3\"\n",
        "import findspark\n",
        "findspark.init()"
      ]
    },
    {
      "cell_type": "code",
      "execution_count": 3,
      "metadata": {
        "id": "2XbWNf1Te5fM"
      },
      "outputs": [],
      "source": [
        "# Import packages\n",
        "from pyspark.sql import SparkSession\n",
        "import time\n",
        "\n",
        "# Create a SparkSession\n",
        "spark = SparkSession.builder.appName(\"SparkSQL\").getOrCreate()"
      ]
    },
    {
      "cell_type": "code",
      "execution_count": 4,
      "metadata": {
        "colab": {
          "base_uri": "https://localhost:8080/"
        },
        "id": "wOJqxG_RPSwp",
        "outputId": "76e68763-e9f3-48ef-9284-88088e48f6fb"
      },
      "outputs": [
        {
          "output_type": "stream",
          "name": "stdout",
          "text": [
            "+--------------------+----------+----------+------+--------+---------+-----------+--------+------+----------+----+\n",
            "|                  id|      date|date_built| price|bedrooms|bathrooms|sqft_living|sqft_lot|floors|waterfront|view|\n",
            "+--------------------+----------+----------+------+--------+---------+-----------+--------+------+----------+----+\n",
            "|f8a53099-ba1c-47d...|2022-04-08|      2016|936923|       4|        3|       3167|   11733|     2|         1|  76|\n",
            "|7530a2d8-1ae3-451...|2021-06-13|      2013|379628|       2|        2|       2235|   14384|     1|         0|  23|\n",
            "|43de979c-0bf0-4c9...|2019-04-12|      2014|417866|       2|        2|       2127|   10575|     2|         0|   0|\n",
            "|b672c137-b88c-48b...|2019-10-16|      2016|239895|       2|        2|       1631|   11149|     2|         0|   0|\n",
            "|e0726d4d-d595-407...|2022-01-08|      2017|424418|       3|        2|       2249|   13878|     2|         0|   4|\n",
            "|5aa00529-0533-46b...|2019-01-30|      2017|218712|       2|        3|       1965|   14375|     2|         0|   7|\n",
            "|131492a1-72e2-4a8...|2020-02-08|      2017|419199|       2|        3|       2062|    8876|     2|         0|   6|\n",
            "|8d54a71b-c520-44e...|2019-07-21|      2010|323956|       2|        3|       1506|   11816|     1|         0|  25|\n",
            "|e81aacfe-17fe-46b...|2020-06-16|      2016|181925|       3|        3|       2137|   11709|     2|         0|  22|\n",
            "|2ed8d509-7372-46d...|2021-08-06|      2015|258710|       3|        3|       1918|    9666|     1|         0|  25|\n",
            "|f876d86f-3c9f-42b...|2019-02-27|      2011|167864|       3|        3|       2471|   13924|     2|         0|  15|\n",
            "|0a2bd445-8508-4d8...|2021-12-30|      2014|337527|       2|        3|       1926|   12556|     1|         0|  23|\n",
            "|941bad30-eb49-4a7...|2020-05-09|      2015|229896|       3|        3|       2197|    8641|     1|         0|   3|\n",
            "|dd61eb34-6589-4c0...|2021-07-25|      2016|210247|       3|        2|       1672|   11986|     2|         0|  28|\n",
            "|f1e4cef7-d151-439...|2019-02-01|      2011|398667|       2|        3|       2331|   11356|     1|         0|   7|\n",
            "|ea620c7b-c2f7-4c6...|2021-05-31|      2011|437958|       3|        3|       2356|   11052|     1|         0|  26|\n",
            "|f233cb41-6f33-4b0...|2021-07-18|      2016|437375|       4|        3|       1704|   11721|     2|         0|  34|\n",
            "|c797ca12-52cd-4b1...|2019-06-08|      2015|288650|       2|        3|       2100|   10419|     2|         0|   7|\n",
            "|0cfe57f3-28c2-472...|2019-10-04|      2015|308313|       3|        3|       1960|    9453|     2|         0|   2|\n",
            "|4566cd2a-ac6e-435...|2019-07-15|      2016|177541|       3|        3|       2130|   10517|     2|         0|  25|\n",
            "+--------------------+----------+----------+------+--------+---------+-----------+--------+------+----------+----+\n",
            "only showing top 20 rows\n",
            "\n"
          ]
        }
      ],
      "source": [
        "# 1. Read in the AWS S3 bucket into a DataFrame.\n",
        "from pyspark import SparkFiles\n",
        "url = \"https://2u-data-curriculum-team.s3.amazonaws.com/dataviz-classroom/v1.2/22-big-data/home_sales_revised.csv\"\n",
        "spark.sparkContext.addFile(url)\n",
        "sparkSQL = spark.read.option('header', 'true').csv(SparkFiles.get(\"home_sales_revised.csv\"), inferSchema=True, sep=',', timestampFormat=\"mm/dd/yy\")\n",
        "sparkSQL.show()\n"
      ]
    },
    {
      "cell_type": "code",
      "execution_count": 51,
      "metadata": {
        "id": "RoljcJ7WPpnm",
        "colab": {
          "base_uri": "https://localhost:8080/"
        },
        "outputId": "535fc872-7788-461a-fc7c-7d96392f427e"
      },
      "outputs": [
        {
          "output_type": "stream",
          "name": "stdout",
          "text": [
            "+--------------------+----------+----------+------+--------+---------+-----------+--------+------+----------+----+\n",
            "|                  id|      date|date_built| price|bedrooms|bathrooms|sqft_living|sqft_lot|floors|waterfront|view|\n",
            "+--------------------+----------+----------+------+--------+---------+-----------+--------+------+----------+----+\n",
            "|f8a53099-ba1c-47d...|2022-04-08|      2016|936923|       4|        3|       3167|   11733|     2|         1|  76|\n",
            "|7530a2d8-1ae3-451...|2021-06-13|      2013|379628|       2|        2|       2235|   14384|     1|         0|  23|\n",
            "|43de979c-0bf0-4c9...|2019-04-12|      2014|417866|       2|        2|       2127|   10575|     2|         0|   0|\n",
            "|b672c137-b88c-48b...|2019-10-16|      2016|239895|       2|        2|       1631|   11149|     2|         0|   0|\n",
            "|e0726d4d-d595-407...|2022-01-08|      2017|424418|       3|        2|       2249|   13878|     2|         0|   4|\n",
            "|5aa00529-0533-46b...|2019-01-30|      2017|218712|       2|        3|       1965|   14375|     2|         0|   7|\n",
            "|131492a1-72e2-4a8...|2020-02-08|      2017|419199|       2|        3|       2062|    8876|     2|         0|   6|\n",
            "|8d54a71b-c520-44e...|2019-07-21|      2010|323956|       2|        3|       1506|   11816|     1|         0|  25|\n",
            "|e81aacfe-17fe-46b...|2020-06-16|      2016|181925|       3|        3|       2137|   11709|     2|         0|  22|\n",
            "|2ed8d509-7372-46d...|2021-08-06|      2015|258710|       3|        3|       1918|    9666|     1|         0|  25|\n",
            "|f876d86f-3c9f-42b...|2019-02-27|      2011|167864|       3|        3|       2471|   13924|     2|         0|  15|\n",
            "|0a2bd445-8508-4d8...|2021-12-30|      2014|337527|       2|        3|       1926|   12556|     1|         0|  23|\n",
            "|941bad30-eb49-4a7...|2020-05-09|      2015|229896|       3|        3|       2197|    8641|     1|         0|   3|\n",
            "|dd61eb34-6589-4c0...|2021-07-25|      2016|210247|       3|        2|       1672|   11986|     2|         0|  28|\n",
            "|f1e4cef7-d151-439...|2019-02-01|      2011|398667|       2|        3|       2331|   11356|     1|         0|   7|\n",
            "|ea620c7b-c2f7-4c6...|2021-05-31|      2011|437958|       3|        3|       2356|   11052|     1|         0|  26|\n",
            "|f233cb41-6f33-4b0...|2021-07-18|      2016|437375|       4|        3|       1704|   11721|     2|         0|  34|\n",
            "|c797ca12-52cd-4b1...|2019-06-08|      2015|288650|       2|        3|       2100|   10419|     2|         0|   7|\n",
            "|0cfe57f3-28c2-472...|2019-10-04|      2015|308313|       3|        3|       1960|    9453|     2|         0|   2|\n",
            "|4566cd2a-ac6e-435...|2019-07-15|      2016|177541|       3|        3|       2130|   10517|     2|         0|  25|\n",
            "+--------------------+----------+----------+------+--------+---------+-----------+--------+------+----------+----+\n",
            "only showing top 20 rows\n",
            "\n"
          ]
        }
      ],
      "source": [
        "# 2. Create a temporary view of the DataFrame.\n",
        "\n",
        "sparkSQL.createOrReplaceTempView('home_sales')\n",
        "spark.sql(\"SELECT * FROM home_sales\").show()\n"
      ]
    },
    {
      "cell_type": "code",
      "execution_count": 52,
      "metadata": {
        "colab": {
          "base_uri": "https://localhost:8080/"
        },
        "id": "L6fkwOeOmqvq",
        "outputId": "43d826f4-ff52-47a0-c561-19fbad952d28"
      },
      "outputs": [
        {
          "output_type": "stream",
          "name": "stdout",
          "text": [
            "+---------+----+--------+\n",
            "|avg_price|year|bedrooms|\n",
            "+---------+----+--------+\n",
            "| 300263.7|2019|       4|\n",
            "|298353.78|2020|       4|\n",
            "|301819.44|2021|       4|\n",
            "|296363.88|2022|       4|\n",
            "+---------+----+--------+\n",
            "\n"
          ]
        }
      ],
      "source": [
        "# 3. What is the average price for a four bedroom house sold per year, rounded to two decimal places?\n",
        "query = \"\"\"\n",
        "(SELECT round(avg(price),2) as avg_price, year(date) AS year, bedrooms\n",
        "from home_sales\n",
        "where bedrooms == 4\n",
        "group by year, bedrooms\n",
        "order by year)\n",
        "\"\"\"\n",
        "spark.sql(query).show()\n"
      ]
    },
    {
      "cell_type": "code",
      "execution_count": 53,
      "metadata": {
        "colab": {
          "base_uri": "https://localhost:8080/"
        },
        "id": "l8p_tUS8h8it",
        "outputId": "22a92c3f-a334-4481-e5be-c41ea8e86e21"
      },
      "outputs": [
        {
          "output_type": "stream",
          "name": "stdout",
          "text": [
            "+---------+----------+--------+---------+\n",
            "|avg_price|date_built|bedrooms|bathrooms|\n",
            "+---------+----------+--------+---------+\n",
            "|292859.62|      2010|       3|        3|\n",
            "|291117.47|      2011|       3|        3|\n",
            "|293683.19|      2012|       3|        3|\n",
            "|295962.27|      2013|       3|        3|\n",
            "|290852.27|      2014|       3|        3|\n",
            "| 288770.3|      2015|       3|        3|\n",
            "|290555.07|      2016|       3|        3|\n",
            "|292676.79|      2017|       3|        3|\n",
            "+---------+----------+--------+---------+\n",
            "\n"
          ]
        }
      ],
      "source": [
        "# 4. What is the average price of a home for each year the home was built,\n",
        "# that have 3 bedrooms and 3 bathrooms, rounded to two decimal places?\n",
        "query = \"\"\"\n",
        "(SELECT round(avg(price),2) as avg_price, date_built, bedrooms, bathrooms\n",
        "from home_sales\n",
        "where bedrooms == 3 and bathrooms == 3\n",
        "group by date_built,bedrooms, bathrooms\n",
        "order by date_built)\n",
        "\"\"\"\n",
        "spark.sql(query).show()\n"
      ]
    },
    {
      "cell_type": "code",
      "execution_count": 54,
      "metadata": {
        "colab": {
          "base_uri": "https://localhost:8080/"
        },
        "id": "Y-Eytz64liDU",
        "outputId": "a25cc2b7-4f6d-4ca4-ddd8-9d9837b8ec81"
      },
      "outputs": [
        {
          "output_type": "stream",
          "name": "stdout",
          "text": [
            "+---------+----------+--------+---------+-----------+\n",
            "|avg_price|date_built|bedrooms|bathrooms|sqft_living|\n",
            "+---------+----------+--------+---------+-----------+\n",
            "| 356911.0|      2010|       3|        3|       2405|\n",
            "| 287150.0|      2010|       3|        3|       2250|\n",
            "| 241176.5|      2010|       3|        3|       2300|\n",
            "| 405100.0|      2010|       3|        3|       2099|\n",
            "| 139421.0|      2010|       3|        3|       2002|\n",
            "| 211873.0|      2010|       3|        3|       2218|\n",
            "| 201255.0|      2010|       3|        3|       2272|\n",
            "| 424334.0|      2010|       3|        3|       2381|\n",
            "| 154330.0|      2010|       3|        3|       2183|\n",
            "| 130941.0|      2010|       3|        3|       2313|\n",
            "| 193290.0|      2010|       3|        3|       2492|\n",
            "| 339534.0|      2010|       3|        3|       2139|\n",
            "| 211041.0|      2010|       3|        3|       2442|\n",
            "| 133787.0|      2010|       3|        3|       2420|\n",
            "| 257250.0|      2010|       3|        3|       2040|\n",
            "| 447889.0|      2010|       3|        3|       2388|\n",
            "| 438333.0|      2010|       3|        3|       2236|\n",
            "| 177978.0|      2010|       3|        3|       2151|\n",
            "| 413316.0|      2010|       3|        3|       2364|\n",
            "| 251322.5|      2010|       3|        3|       2487|\n",
            "+---------+----------+--------+---------+-----------+\n",
            "only showing top 20 rows\n",
            "\n"
          ]
        }
      ],
      "source": [
        "# 5. What is the average price of a home for each year the home was built,\n",
        "# that have 3 bedrooms, 3 bathrooms, with two floors,\n",
        "# and are greater than or equal to 2,000 square feet, rounded to two decimal places?\n",
        "query = \"\"\"\n",
        "(SELECT round(avg(price),2) as avg_price, date_built, bedrooms, bathrooms, sqft_living\n",
        "from home_sales\n",
        "where bedrooms == 3 and bathrooms == 3 and floors == 2 and sqft_living >= 2000\n",
        "group by date_built,bedrooms, bathrooms, sqft_living\n",
        "order by date_built)\n",
        "\"\"\"\n",
        "spark.sql(query).show()\n"
      ]
    },
    {
      "cell_type": "code",
      "execution_count": 55,
      "metadata": {
        "colab": {
          "base_uri": "https://localhost:8080/"
        },
        "id": "GUrfgOX1pCRd",
        "outputId": "9eba943d-c015-4aa4-d9a7-ff9f2d3a8419"
      },
      "outputs": [
        {
          "output_type": "stream",
          "name": "stdout",
          "text": [
            "+----------+----+\n",
            "| avg_price|view|\n",
            "+----------+----+\n",
            "| 1026669.5| 100|\n",
            "|1061201.42|  99|\n",
            "|1053739.33|  98|\n",
            "|1129040.15|  97|\n",
            "|1017815.92|  96|\n",
            "| 1054325.6|  95|\n",
            "| 1033536.2|  94|\n",
            "|1026006.06|  93|\n",
            "| 970402.55|  92|\n",
            "|1137372.73|  91|\n",
            "|1062654.16|  90|\n",
            "|1107839.15|  89|\n",
            "|1031719.35|  88|\n",
            "| 1072285.2|  87|\n",
            "|1070444.25|  86|\n",
            "|1056336.74|  85|\n",
            "|1117233.13|  84|\n",
            "|1033965.93|  83|\n",
            "| 1063498.0|  82|\n",
            "|1053472.79|  81|\n",
            "+----------+----+\n",
            "only showing top 20 rows\n",
            "\n",
            "--- 0.7444086074829102 seconds ---\n"
          ]
        }
      ],
      "source": [
        "# 6. What is the average price of a home per \"view\" rating, rounded to two decimal places,\n",
        "# having an average home price greater than or equal to $350,000? Order by descending view rating.\n",
        "# Although this is a small dataset, determine the run time for this query.\n",
        "\n",
        "start_time = time.time()\n",
        "query = \"\"\"\n",
        "(SELECT round(avg(price),2) as avg_price, view\n",
        "from home_sales\n",
        "group by view\n",
        "having avg(price) >= 350000\n",
        "order by view desc)\n",
        "\"\"\"\n",
        "spark.sql(query).show()\n",
        "\n",
        "\n",
        "print(\"--- %s seconds ---\" % (time.time() - start_time))"
      ]
    },
    {
      "cell_type": "code",
      "execution_count": 56,
      "metadata": {
        "colab": {
          "base_uri": "https://localhost:8080/"
        },
        "id": "KAhk3ZD2tFy8",
        "outputId": "2a5a1fe1-e26e-41ac-da60-b42d01d09ec0"
      },
      "outputs": [
        {
          "output_type": "execute_result",
          "data": {
            "text/plain": [
              "DataFrame[]"
            ]
          },
          "metadata": {},
          "execution_count": 56
        }
      ],
      "source": [
        "# 7. Cache the the temporary table home_sales.\n",
        "spark.sql(\"cache table home_sales\")"
      ]
    },
    {
      "cell_type": "code",
      "execution_count": 57,
      "metadata": {
        "colab": {
          "base_uri": "https://localhost:8080/"
        },
        "id": "4opVhbvxtL-i",
        "outputId": "2302d86d-1422-4c35-aa45-c0e5b89f4f8f"
      },
      "outputs": [
        {
          "output_type": "execute_result",
          "data": {
            "text/plain": [
              "True"
            ]
          },
          "metadata": {},
          "execution_count": 57
        }
      ],
      "source": [
        "# 8. Check if the table is cached.\n",
        "spark.catalog.isCached('home_sales')"
      ]
    },
    {
      "cell_type": "code",
      "execution_count": 58,
      "metadata": {
        "colab": {
          "base_uri": "https://localhost:8080/"
        },
        "id": "5GnL46lwTSEk",
        "outputId": "4ea9cba0-4f0a-4dc9-ef2c-5e75bc59e916"
      },
      "outputs": [
        {
          "output_type": "stream",
          "name": "stdout",
          "text": [
            "+----------+----+\n",
            "| avg_price|view|\n",
            "+----------+----+\n",
            "| 1026669.5| 100|\n",
            "|1061201.42|  99|\n",
            "|1053739.33|  98|\n",
            "|1129040.15|  97|\n",
            "|1017815.92|  96|\n",
            "| 1054325.6|  95|\n",
            "| 1033536.2|  94|\n",
            "|1026006.06|  93|\n",
            "| 970402.55|  92|\n",
            "|1137372.73|  91|\n",
            "|1062654.16|  90|\n",
            "|1107839.15|  89|\n",
            "|1031719.35|  88|\n",
            "| 1072285.2|  87|\n",
            "|1070444.25|  86|\n",
            "|1056336.74|  85|\n",
            "|1117233.13|  84|\n",
            "|1033965.93|  83|\n",
            "| 1063498.0|  82|\n",
            "|1053472.79|  81|\n",
            "+----------+----+\n",
            "only showing top 20 rows\n",
            "\n",
            "--- 0.46309423446655273 seconds ---\n"
          ]
        }
      ],
      "source": [
        "# 9. Using the cached data, run the last query above, that calculates\n",
        "# the average price of a home per \"view\" rating, rounded to two decimal places,\n",
        "# having an average home price greater than or equal to $350,000.\n",
        "# Determine the runtime and compare it to the uncached runtime.\n",
        "\n",
        "start_time = time.time()\n",
        "query = \"\"\"\n",
        "(SELECT round(avg(price),2) as avg_price, view\n",
        "from home_sales\n",
        "group by view\n",
        "having avg(price) >= 350000\n",
        "order by view desc)\n",
        "\"\"\"\n",
        "spark.sql(query).show()\n",
        "\n",
        "\n",
        "print(\"--- %s seconds ---\" % (time.time() - start_time))\n"
      ]
    },
    {
      "cell_type": "code",
      "execution_count": 59,
      "metadata": {
        "id": "Qm12WN9isHBR"
      },
      "outputs": [],
      "source": [
        "# 10. Partition by the \"date_built\" field on the formatted parquet home sales data\n",
        "sparkSQL.write.partitionBy('date_built').mode('overwrite').parquet('homes_parquet')"
      ]
    },
    {
      "cell_type": "code",
      "execution_count": 60,
      "metadata": {
        "id": "AZ7BgY61sRqY"
      },
      "outputs": [],
      "source": [
        "# 11. Read the formatted parquet data.\n",
        "p_sparkSQl = spark.read.parquet('homes_parquet')"
      ]
    },
    {
      "cell_type": "code",
      "execution_count": 61,
      "metadata": {
        "id": "J6MJkHfvVcvh"
      },
      "outputs": [],
      "source": [
        "# 12. Create a temporary table for the parquet data.\n",
        "p_sparkSQl.createOrReplaceTempView(\"par_homes\")"
      ]
    },
    {
      "cell_type": "code",
      "execution_count": 62,
      "metadata": {
        "colab": {
          "base_uri": "https://localhost:8080/"
        },
        "id": "G_Vhb52rU1Sn",
        "outputId": "b7467176-455c-4db5-c9d9-76217f5b94e8"
      },
      "outputs": [
        {
          "output_type": "stream",
          "name": "stdout",
          "text": [
            "+----------+----+\n",
            "| avg_price|view|\n",
            "+----------+----+\n",
            "| 1026669.5| 100|\n",
            "|1061201.42|  99|\n",
            "|1053739.33|  98|\n",
            "|1129040.15|  97|\n",
            "|1017815.92|  96|\n",
            "| 1054325.6|  95|\n",
            "| 1033536.2|  94|\n",
            "|1026006.06|  93|\n",
            "| 970402.55|  92|\n",
            "|1137372.73|  91|\n",
            "|1062654.16|  90|\n",
            "|1107839.15|  89|\n",
            "|1031719.35|  88|\n",
            "| 1072285.2|  87|\n",
            "|1070444.25|  86|\n",
            "|1056336.74|  85|\n",
            "|1117233.13|  84|\n",
            "|1033965.93|  83|\n",
            "| 1063498.0|  82|\n",
            "|1053472.79|  81|\n",
            "+----------+----+\n",
            "only showing top 20 rows\n",
            "\n",
            "--- 0.5348849296569824 seconds ---\n"
          ]
        }
      ],
      "source": [
        "# 13. Using the parquet DataFrame, run the last query above, that calculates\n",
        "# the average price of a home per \"view\" rating, rounded to two decimal places,\n",
        "# having an average home price greater than or equal to $350,000.\n",
        "# Determine the runtime and compare it to the cached runtime.\n",
        "\n",
        "start_time = time.time()\n",
        "query = \"\"\"\n",
        "(SELECT round(avg(price),2) as avg_price, view\n",
        "from par_homes\n",
        "group by view\n",
        "having avg(price) >= 350000\n",
        "order by view desc)\n",
        "\"\"\"\n",
        "spark.sql(query).show()\n",
        "\n",
        "\n",
        "print(\"--- %s seconds ---\" % (time.time() - start_time))"
      ]
    },
    {
      "cell_type": "code",
      "execution_count": 63,
      "metadata": {
        "colab": {
          "base_uri": "https://localhost:8080/"
        },
        "id": "hjjYzQGjtbq8",
        "outputId": "0157506a-1b52-41b4-e5a8-cdce21a73ade"
      },
      "outputs": [
        {
          "output_type": "execute_result",
          "data": {
            "text/plain": [
              "DataFrame[]"
            ]
          },
          "metadata": {},
          "execution_count": 63
        }
      ],
      "source": [
        "# 14. Uncache the home_sales temporary table.\n",
        "spark.sql('uncache table home_sales')"
      ]
    },
    {
      "cell_type": "code",
      "execution_count": 64,
      "metadata": {
        "colab": {
          "base_uri": "https://localhost:8080/"
        },
        "id": "Sy9NBvO7tlmm",
        "outputId": "b146e103-4f56-4e27-cb3d-af81cedb7c89"
      },
      "outputs": [
        {
          "output_type": "execute_result",
          "data": {
            "text/plain": [
              "False"
            ]
          },
          "metadata": {},
          "execution_count": 64
        }
      ],
      "source": [
        "# 15. Check if the home_sales is no longer cached\n",
        "\n",
        "spark.catalog.isCached('home_sales')"
      ]
    },
    {
      "cell_type": "code",
      "execution_count": null,
      "metadata": {
        "id": "UedS5UyPPZ1V"
      },
      "outputs": [],
      "source": []
    }
  ],
  "metadata": {
    "colab": {
      "provenance": []
    },
    "kernelspec": {
      "display_name": "Python 3 (ipykernel)",
      "language": "python",
      "name": "python3"
    },
    "language_info": {
      "codemirror_mode": {
        "name": "ipython",
        "version": 3
      },
      "file_extension": ".py",
      "mimetype": "text/x-python",
      "name": "python",
      "nbconvert_exporter": "python",
      "pygments_lexer": "ipython3",
      "version": "3.10.4"
    },
    "nteract": {
      "version": "0.28.0"
    }
  },
  "nbformat": 4,
  "nbformat_minor": 0
}